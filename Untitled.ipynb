{
 "cells": [
  {
   "cell_type": "markdown",
   "id": "3bc318f4",
   "metadata": {},
   "source": [
    "# ІМТР - Завдання 2"
   ]
  },
  {
   "cell_type": "markdown",
   "id": "a42d49a1",
   "metadata": {},
   "source": [
    "### 1. Виконати розрахунок показників надійності згідно з лямбда-моделлю (формули (2) – (5)) за такими вихідними даними."
   ]
  },
  {
   "cell_type": "code",
   "execution_count": 21,
   "id": "44ab8d22",
   "metadata": {},
   "outputs": [],
   "source": [
    "m = [1 1 1 2 1 1 1 1 1 1 1];\n",
    "l = [9.97 5.41 4.34 0.76 8.11 1.14 5.76 0.48 0.98 1.57 2.01].*10^-6;\n",
    "Tzad=10^4;\n",
    "nu=1;\n",
    "gamma = 90;"
   ]
  },
  {
   "cell_type": "markdown",
   "id": "2ecd6551",
   "metadata": {},
   "source": [
    "Інтенсивність відмов"
   ]
  },
  {
   "cell_type": "code",
   "execution_count": 22,
   "id": "301d7f5a",
   "metadata": {},
   "outputs": [
    {
     "name": "stdout",
     "output_type": "stream",
     "text": [
      "\n",
      "L =\n",
      "\n",
      "   4.1290e-05\n",
      "\n"
     ]
    }
   ],
   "source": [
    "L=sum(l.*m)\n"
   ]
  },
  {
   "cell_type": "markdown",
   "id": "855b7d42",
   "metadata": {},
   "source": [
    "Середній наробіток"
   ]
  },
  {
   "cell_type": "code",
   "execution_count": 23,
   "id": "455f7299",
   "metadata": {},
   "outputs": [
    {
     "name": "stdout",
     "output_type": "stream",
     "text": [
      "\n",
      "T =\n",
      "\n",
      "   2.4219e+04\n",
      "\n"
     ]
    }
   ],
   "source": [
    "T=1/L"
   ]
  },
  {
   "cell_type": "markdown",
   "id": "5c232477",
   "metadata": {},
   "source": [
    "гамма-відсотковий наробіток до відмови"
   ]
  },
  {
   "cell_type": "code",
   "execution_count": 24,
   "id": "27d9349e",
   "metadata": {},
   "outputs": [
    {
     "name": "stdout",
     "output_type": "stream",
     "text": [
      "\n",
      "Ty =\n",
      "\n",
      "   2.5517e+03\n",
      "\n"
     ]
    }
   ],
   "source": [
    "Ty = -T*log(0.9)"
   ]
  },
  {
   "cell_type": "markdown",
   "id": "44e2910d",
   "metadata": {},
   "source": [
    "Ймовірність безвідиовної роботи"
   ]
  },
  {
   "cell_type": "code",
   "execution_count": 25,
   "id": "205f0274",
   "metadata": {},
   "outputs": [
    {
     "name": "stdout",
     "output_type": "stream",
     "text": [
      " \n",
      "P(x) =\n",
      " \n",
      "exp(-(6093328502427739*x)/147573952589676412928)\n",
      " \n"
     ]
    }
   ],
   "source": [
    "syms x\n",
    "P(x)=exp(-L*x)"
   ]
  },
  {
   "cell_type": "markdown",
   "id": "e7aa7436",
   "metadata": {},
   "source": [
    "Ймовірність безвідмовної роботи протягом заданого періоду часу"
   ]
  },
  {
   "cell_type": "code",
   "execution_count": 26,
   "id": "d8c42167",
   "metadata": {},
   "outputs": [
    {
     "name": "stdout",
     "output_type": "stream",
     "text": [
      "\n",
      "ans =\n",
      "\n",
      "    0.6617\n",
      "\n"
     ]
    }
   ],
   "source": [
    "eval(P(Tzad))"
   ]
  },
  {
   "cell_type": "code",
   "execution_count": 27,
   "id": "fe597c9b",
   "metadata": {},
   "outputs": [],
   "source": [
    "t = [0:100:10^5];"
   ]
  },
  {
   "cell_type": "code",
   "execution_count": 28,
   "id": "698363dc",
   "metadata": {},
   "outputs": [],
   "source": [
    "Pp = P(t);"
   ]
  },
  {
   "cell_type": "markdown",
   "id": "7ad6b585",
   "metadata": {},
   "source": [
    "### 2. Побудувати графік залежності імовірності безвідмовної роботи від часу згідно з формулою (1)."
   ]
  },
  {
   "cell_type": "code",
   "execution_count": 29,
   "id": "3bfffb1b",
   "metadata": {},
   "outputs": [
    {
     "data": {
      "image/png": "[encoded data removed]",
      "text/plain": [
       "<IPython.core.display.Image object>"
      ]
     },
     "metadata": {},
     "output_type": "display_data"
    }
   ],
   "source": [
    "plot(t,Pp);\n",
    "grid on;"
   ]
  },
  {
   "cell_type": "markdown",
   "id": "e1bf00f7",
   "metadata": {},
   "source": [
    "### 3. За отриманими результатами зробити висновки."
   ]
  },
  {
   "cell_type": "markdown",
   "id": "2103ffe5",
   "metadata": {},
   "source": [
    "1. Ймовірність безвідмовної робити спочатку дорівнює 100%. Потім вона починає спадати і вже на значенні $ 5.5 * 10 ^{4} $ год буде менше 10%. \n",
    "2. Середній наробіток до відмови дорівнює 24219 годин. \n",
    "3. Гамма-відсотковий наробіток до відмови буде 2551 годин (при якому відмови не буде з ймовірністю 90%). При заданому наробітку 10^4 год ймовірність безвідмовної роботи буде 66.2%."
   ]
  },
  {
   "cell_type": "markdown",
   "id": "096107a7",
   "metadata": {},
   "source": [
    "## DN-модель"
   ]
  },
  {
   "cell_type": "markdown",
   "id": "90405e19",
   "metadata": {},
   "source": [
    "### 4. Виконати розрахунок показників надійності згідно з DN-моделлю (формули (6) – (11)) Вихідні дані: табл. 1, значення  = 1, час випробувань tв = 104 год;  = 90%; заданий наробіток Tзад = 104 год."
   ]
  },
  {
   "cell_type": "code",
   "execution_count": 30,
   "id": "860a0c0b",
   "metadata": {},
   "outputs": [],
   "source": [
    "syms tt;"
   ]
  },
  {
   "cell_type": "code",
   "execution_count": 31,
   "id": "9c346ec1",
   "metadata": {},
   "outputs": [],
   "source": [
    "F(tt) = 1/sqrt(2*pi)*int(exp(-x^2/2),'x',-inf,tt);"
   ]
  },
  {
   "cell_type": "markdown",
   "id": "4c41e67f",
   "metadata": {},
   "source": [
    "### 5. Розрахувати середні наробітки до відмови кожного з модулів згідно з формулою (8)."
   ]
  },
  {
   "cell_type": "code",
   "execution_count": 48,
   "id": "cf64afac",
   "metadata": {},
   "outputs": [
    {
     "name": "stdout",
     "output_type": "stream",
     "text": [
      "Warning: Unable to solve symbolically. Returning a numeric solution using <a href=\"matlab:web(fullfile(docroot, 'symbolic/vpasolve.html'))\">vpasolve</a>.\n",
      "> In sym/solve (line 304)\n"
     ]
    }
   ],
   "source": [
    "Tzad=10^4;\n",
    "eq = 0.5*log(x) - 0.5*log(2*pi*Tzad^3) - ((Tzad-x)^2)/(2*Tzad*x) == log(1);\n",
    "res = solve(eq);"
   ]
  },
  {
   "cell_type": "code",
   "execution_count": 49,
   "id": "7225b9b1",
   "metadata": {},
   "outputs": [
    {
     "name": "stdout",
     "output_type": "stream",
     "text": [
      "Created file '/Users/andrii/eq1.m'.\n"
     ]
    }
   ],
   "source": [
    "%%file eq1.m\n",
    "function tst = eq1(t,Tzad)\n",
    "    syms x;\n",
    "    eq = 0.5*log(x) - 0.5*log(2*pi*Tzad^3) - ((Tzad-x)^2)/(2*Tzad*x) == log(t);\n",
    "    res = vpasolve(eq);\n",
    "    tst = eval(res);\n",
    "end"
   ]
  },
  {
   "cell_type": "code",
   "execution_count": 50,
   "id": "323f13a4",
   "metadata": {},
   "outputs": [
    {
     "name": "stdout",
     "output_type": "stream",
     "text": [
      "\n",
      "answers =\n",
      "\n",
      "     []\n",
      "\n"
     ]
    }
   ],
   "source": [
    "answers = []\n",
    "for el = l\n",
    "    answers(end+1) = eq1(el, Tzad);\n",
    "end"
   ]
  },
  {
   "cell_type": "code",
   "execution_count": 51,
   "id": "71f89f4a",
   "metadata": {},
   "outputs": [
    {
     "name": "stdout",
     "output_type": "stream",
     "text": [
      "\n",
      "answers =\n",
      "\n",
      "   1.0e+05 *\n",
      "\n",
      "  Columns 1 through 7\n",
      "\n",
      "    0.6489    0.7942    0.8453    1.2354    0.6987    1.1462    0.7796\n",
      "\n",
      "  Columns 8 through 11\n",
      "\n",
      "    1.3358    1.1796    1.0752    1.0201\n",
      "\n"
     ]
    }
   ],
   "source": [
    "answers"
   ]
  },
  {
   "cell_type": "markdown",
   "id": "3aa55348",
   "metadata": {},
   "source": [
    "Порівняння розрахованих значень середніх наробітків з визначеними за допомогою рисунку в ДСТУ $ 10^{5} $ год\n",
    "\n",
    "| № | За рисунком | За доп. програми |\n",
    "|---|-------------|------------------|\n",
    "| 1 | 0.65        | 0.6489           |\n",
    "| 2 | 0.87        | 0.7942           |\n",
    "| 3 | 0.9         | 0.8453           |\n",
    "| 4 | 1.3         | 1.2354           |\n",
    "| 5 | 0.7         | 0.6987           |\n",
    "| 6 | 1.21        | 1.1462           |\n",
    "| 7 | 0.86        | 0.7796           |\n",
    "| 8 | 1.4         | 1.3358           |\n",
    "| 9 | 1.2         | 1.1796           |\n",
    "| 10 | 1.15       | 1.0752           |\n",
    "| 11 | 1.1        | 1.0201           |"
   ]
  },
  {
   "cell_type": "markdown",
   "id": "24bf46d0",
   "metadata": {},
   "source": [
    "Середній наробіток до відмови"
   ]
  },
  {
   "cell_type": "code",
   "execution_count": 52,
   "id": "b269f5c8",
   "metadata": {},
   "outputs": [
    {
     "name": "stdout",
     "output_type": "stream",
     "text": [
      "\n",
      "Tnew =\n",
      "\n",
      "   2.6509e+04\n",
      "\n"
     ]
    }
   ],
   "source": [
    "Tnew = 1/sqrt(sum(m.*answers.^-2))"
   ]
  },
  {
   "cell_type": "markdown",
   "id": "6b70dede",
   "metadata": {},
   "source": []
  },
  {
   "cell_type": "code",
   "execution_count": 53,
   "id": "98f6c575",
   "metadata": {},
   "outputs": [],
   "source": [
    "P2(x)=F((Tnew-x)/sqrt(Tnew*x))-exp(2)*F(-(Tnew+x)/sqrt(Tnew*x));"
   ]
  },
  {
   "cell_type": "markdown",
   "id": "00fd0d2b",
   "metadata": {},
   "source": [
    "### 6. Побудувати графік залежності імовірності безвідмовної роботи від часу згідно з формулою (6). Порівняти з залежністю згідно з лямбда-моделлю."
   ]
  },
  {
   "cell_type": "code",
   "execution_count": 54,
   "id": "b49efad1",
   "metadata": {},
   "outputs": [],
   "source": [
    "tt2 = [1:100:10^5];"
   ]
  },
  {
   "cell_type": "code",
   "execution_count": 55,
   "id": "523beb4a",
   "metadata": {},
   "outputs": [],
   "source": [
    "P2vals = P2(tt2);\n",
    "Pvals = P(tt2);"
   ]
  },
  {
   "cell_type": "code",
   "execution_count": 56,
   "id": "f6b9439b",
   "metadata": {},
   "outputs": [
    {
     "data": {
      "image/png": "[encoded data removed]",
      "text/plain": [
       "<IPython.core.display.Image object>"
      ]
     },
     "metadata": {},
     "output_type": "display_data"
    }
   ],
   "source": [
    "figure\n",
    "hold on;\n",
    "plot(tt2, Pvals)\n",
    "plot(tt2, P2vals)\n",
    "title(\"DN модель\")\n",
    "xlabel(\"t, год\")\n",
    "ylabel(\"Ймовірність\")\n",
    "legend('Лямбда', 'DN')\n",
    "grid on"
   ]
  },
  {
   "cell_type": "markdown",
   "id": "dc450252",
   "metadata": {},
   "source": [
    "### 7. Виконати програмування формули (10). Перевірити роботу програми тестовим розрахунком з параметрами, що відповідають таблиці Л.1 (ДСТУ 2862-94, стор. 31)."
   ]
  },
  {
   "cell_type": "code",
   "execution_count": 57,
   "id": "fa826a94",
   "metadata": {},
   "outputs": [
    {
     "name": "stdout",
     "output_type": "stream",
     "text": [
      "\n",
      "ffint =\n",
      "\n",
      "  function_handle with value:\n",
      "\n",
      "    @(x)1/sqrt(2*pi)*int(exp(-u^2/2),'u',-inf,x)\n",
      "\n"
     ]
    }
   ],
   "source": [
    "syms u;\n",
    "ffint =@(x) 1/sqrt(2*pi) * int(exp(-u^2/2),'u',-inf,x)"
   ]
  },
  {
   "cell_type": "code",
   "execution_count": 58,
   "id": "20642748",
   "metadata": {},
   "outputs": [
    {
     "name": "stdout",
     "output_type": "stream",
     "text": [
      "\n",
      "eq3 =\n",
      "\n",
      "  function_handle with value:\n",
      "\n",
      "    @(x)ffint((x-1)/sqrt(x))+exp(2)*ffint(-(x+1)/sqrt(x))\n",
      "\n"
     ]
    }
   ],
   "source": [
    "eq3 = @(x) ffint((x-1)/sqrt(x))+exp(2)*ffint(-(x+1)/sqrt(x))"
   ]
  },
  {
   "cell_type": "code",
   "execution_count": 59,
   "id": "b63ba4de",
   "metadata": {},
   "outputs": [
    {
     "name": "stdout",
     "output_type": "stream",
     "text": [
      " \n",
      "xl =\n",
      " \n",
      "0.23762470872714488384703726767678\n",
      " \n"
     ]
    }
   ],
   "source": [
    "xx = 0.1;\n",
    "syms xxx;\n",
    "xl = vpasolve(eq3(xxx) == 0.1,xxx,xx)"
   ]
  },
  {
   "cell_type": "markdown",
   "id": "028f0308",
   "metadata": {},
   "source": [
    "У таблиці найближчими значеннями є 0,23 та 0,24. Які відповідають занченням 0,09233 та 0,10241 відповідно. Тому рішення рівняння 0,2376 є вірним."
   ]
  },
  {
   "cell_type": "markdown",
   "id": "0ff010a4",
   "metadata": {},
   "source": [
    "### 8. Виконати розрахунки згідно з формулами (9) та (11)."
   ]
  },
  {
   "cell_type": "code",
   "execution_count": 60,
   "id": "0d0ea334",
   "metadata": {},
   "outputs": [
    {
     "name": "stdout",
     "output_type": "stream",
     "text": [
      " \n",
      "Tgama =\n",
      " \n",
      "6299.3090485864660787190144694317\n",
      " \n"
     ]
    }
   ],
   "source": [
    "Tgama = Tnew*xl"
   ]
  },
  {
   "cell_type": "code",
   "execution_count": 61,
   "id": "9050e34e",
   "metadata": {},
   "outputs": [
    {
     "name": "stdout",
     "output_type": "stream",
     "text": [
      "\n",
      "ans =\n",
      "\n",
      "    0.7526\n",
      "\n"
     ]
    }
   ],
   "source": [
    "eval(P2(Tzad))"
   ]
  },
  {
   "cell_type": "code",
   "execution_count": 62,
   "id": "ed4df648",
   "metadata": {},
   "outputs": [],
   "source": [
    "Pabs = P(tt2)-P2(tt2);\n",
    "Pvid = Pabs./P2(tt2);"
   ]
  },
  {
   "cell_type": "code",
   "execution_count": 63,
   "id": "dcf0745a",
   "metadata": {},
   "outputs": [
    {
     "data": {
      "image/png": "[encoded data removed]",
      "text/plain": [
       "<IPython.core.display.Image object>"
      ]
     },
     "metadata": {},
     "output_type": "display_data"
    }
   ],
   "source": [
    "figure;\n",
    "hold on;\n",
    "plot(tt2, Pabs)\n",
    "plot(tt2, Pvid)\n",
    "legend('Абсолютна', 'Відносна')\n",
    "grid on"
   ]
  },
  {
   "cell_type": "markdown",
   "id": "1348757b",
   "metadata": {},
   "source": [
    "|                                                                 |Лямда-модель|DN-модель |Абсолютна різниця|Відносна різниця|\n",
    "|:---------------------------------------------------------------:|:----------:|:--------:|:---------------:|:--------------:|\n",
    "|Імовірність безвідмовної роботи протягом задантого часу наробітку|0.66173     |0.75257   |-0.090842        |0.12071         |\n",
    "|Середній наробіток до відмови                                    |24218.9392  |26509.4867|-2290.5475       |0.086405        |\n",
    "|Гамма-відсотковий наробіток                                      |2551.7199   |6299.3|-3747.58       |0.5949         |"
   ]
  },
  {
   "cell_type": "markdown",
   "id": "e22b486e",
   "metadata": {},
   "source": [
    "## Висновки\n",
    "1. Ймовірність безвідмовної роботи за лямбда-моделю протягом заданого часу дорівнює 66,1%, а за DN-модулю - 75,2%. Як висновок, можна сказати, що протягом цього періоду система не буде працювати з ймовірністю 90%.\n",
    "2. Середній наробіток до відмови за лямбда-моделю складає 24218 годин, а за DN - 26509. Різниця дорівнює 8.64%.\n",
    "3. Гамма-відостковий наробіток для лямбда моделі рівний 2551 годин, а для DN - 6299.3. Відносна різниця дорівнює 59,49 %. Тому можна сказати, що протягом заданого часу $ 10 ^ {4} $ год пристрій працюватиме з ймовірністю 90%.\n",
    "4. Для збільшення надійності система необхідно замінити найбліьш ненадійні модулі, які згідно з розрахунків є 1 (0.6489) і 5 (0.6987)\n",
    "\n"
   ]
  }
 ],
 "metadata": {
  "interpreter": {
   "hash": "086e8bc6900e44daaa266f424b8a22a304a4a83483ce99d59f8c222753f099c7"
  },
  "kernelspec": {
   "display_name": "Matlab",
   "language": "matlab",
   "name": "matlab"
  },
  "language_info": {
   "codemirror_mode": "octave",
   "file_extension": ".m",
   "help_links": [
    {
     "text": "MetaKernel Magics",
     "url": "https://metakernel.readthedocs.io/en/latest/source/README.html"
    }
   ],
   "mimetype": "text/x-octave",
   "name": "matlab",
   "version": "0.17.1"
  }
 },
 "nbformat": 4,
 "nbformat_minor": 5
}
